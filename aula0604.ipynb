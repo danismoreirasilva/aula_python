{
  "nbformat": 4,
  "nbformat_minor": 0,
  "metadata": {
    "colab": {
      "provenance": [],
      "collapsed_sections": [
        "vSHuSLCqmKSF",
        "B2yS4Z6mxWgU"
      ],
      "authorship_tag": "ABX9TyMs8XADBDsTez8zix/QdWbo",
      "include_colab_link": true
    },
    "kernelspec": {
      "name": "python3",
      "display_name": "Python 3"
    },
    "language_info": {
      "name": "python"
    }
  },
  "cells": [
    {
      "cell_type": "markdown",
      "metadata": {
        "id": "view-in-github",
        "colab_type": "text"
      },
      "source": [
        "<a href=\"https://colab.research.google.com/github/danismoreirasilva/teste_repositorio/blob/main/aula0604.ipynb\" target=\"_parent\"><img src=\"https://colab.research.google.com/assets/colab-badge.svg\" alt=\"Open In Colab\"/></a>"
      ]
    },
    {
      "cell_type": "markdown",
      "source": [
        "# Conhecendo Python"
      ],
      "metadata": {
        "id": "vSHuSLCqmKSF"
      }
    },
    {
      "cell_type": "markdown",
      "source": [
        "## Comentários no código\n",
        "\n",
        "1.   Para comentar uma linha de código utilizar o “#” no início dessa linha\n",
        "2.   Para comentários em bloco utilizar ''' e '''"
      ],
      "metadata": {
        "id": "9Ex5Z3PhxMZ8"
      }
    },
    {
      "cell_type": "markdown",
      "source": [
        "## Tipos primitivos\n",
        "\n",
        "1.  Int (inteiros – números negativos, zero e números positivos)\n",
        "*   Ex.: -6; 0; 2; 1952\n",
        "2.  Float (números reais (com vírgula) – ponto flutuante)\n",
        "*   Ex.: 4.5; 0.0369; -15.223 (seria -15,223)\n",
        "3.  Bool (booleanos – aceita apenas 2 valores)\n",
        "*   Ex: True; False //valor com a primeira letra maiúscula;\n",
        "4.  Str (string ou caracter: são palavras entre aspas simples ou duplas)\n",
        "*   Ex: ‘Dani’; ‘2’; ‘teste’; ‘4.5’, '' (string vazia)\n"
      ],
      "metadata": {
        "id": "_v88FQcuwhU0"
      }
    },
    {
      "cell_type": "markdown",
      "source": [
        "## Comandos\n",
        "\n",
        "*   **Escrever mensagem na tela: print('mensagem')**\n",
        "\n",
        "1.  Os comandos são funções;\n",
        "2.  Função print (escrever, sair informação na tela)\n",
        "3.  Precisa abrir e fechar os parênteses \n",
        "4.  O conteúdo será entre aspas (simples ou duplas) quando for texto\n",
        "5.  Não termina com “;”\n",
        "6.  Os números são utilizados para operações e não podem utilizar aspas\n",
        "\n",
        "*   **Atribuindo valores às variáveis**\n",
        "1.  Toda variável no python é um objeto.\n",
        "2.  Nome das variáveis com letras minúsculas (boa prática)\n",
        "3.  As variáveis recebem valor com a atribuição, por meio do sinal de \"=\".\n",
        "\n",
        "*   **Função input (função para ler informação inserida pelo usuário)**\n",
        "1.  nome = input('Qual é o seu nome: ')\n",
        "2.  idade = int(input('Qual é a sua idade?'))\n",
        "3.  altura = float(input('Qual é a sua altura? '))\n"
      ],
      "metadata": {
        "id": "ocQ-wbZsu3J7"
      }
    },
    {
      "cell_type": "markdown",
      "source": [
        "## Operadores Aritméticos\n",
        "\n",
        "*   Adição: +\n",
        "*   Subtração: -\n",
        "*   Multiplicação: *\n",
        "*   Divisão: /\n",
        "*   Exponenciação: **\n",
        "*   Parte inteira da divisão(div): //\n",
        "*   Resto da divisão (mod): %\n"
      ],
      "metadata": {
        "id": "VxAabWCnt339"
      }
    },
    {
      "cell_type": "markdown",
      "source": [
        "## Operadores Relacionais (Resultado True or False)\n",
        "\n",
        "*   Igualdade: ==\n",
        "*   Diferente: !=\n",
        "*   Menor: <\n",
        "*   Maior: >\n",
        "*   Menor igual: <=\n",
        "*   Maior igual : >"
      ],
      "metadata": {
        "id": "j8KvRFHWsxMk"
      }
    },
    {
      "cell_type": "markdown",
      "source": [
        "## Operadores Lógicos\n",
        "\n",
        "*   Not\n",
        "*   And\n",
        "*   Or"
      ],
      "metadata": {
        "id": "YpvIf5wptY1s"
      }
    },
    {
      "cell_type": "markdown",
      "source": [
        "# Exercícios\n"
      ],
      "metadata": {
        "id": "ZKLyo9kumKNF"
      }
    },
    {
      "cell_type": "markdown",
      "source": [
        "## Faça um programa que leia três números inteiros e informe o valor maior e o valor menor entre eles."
      ],
      "metadata": {
        "id": "B2yS4Z6mxWgU"
      }
    },
    {
      "cell_type": "code",
      "execution_count": null,
      "metadata": {
        "id": "MHkjM5XBl_32"
      },
      "outputs": [],
      "source": [
        "num1 = int(input('Digite o valor de num1: '))\n",
        "num2 = int(input('Digite o valor de num2: '))\n",
        "num3 = int(input('Digite o valor de num3: '))\n",
        "\n",
        "if num1 > num2 and num1 > num3:\n",
        "  maior = num1\n",
        "  if num2 > num3:\n",
        "    menor = num3\n",
        "  else:\n",
        "    menor = num2\n",
        "else:\n",
        "  if num2 > num3:\n",
        "    maior = num2\n",
        "    if num1 > num3:\n",
        "      menor = num3\n",
        "    else:\n",
        "      menor = num1\n",
        "  else:\n",
        "    maior = num3\n",
        "    if num2 > num1:\n",
        "      menor = num1\n",
        "    else:\n",
        "      menor = num2\n",
        "\n",
        "print('Os valores maior é {} e o menor é {}'.format(maior,menor))\n"
      ]
    },
    {
      "cell_type": "markdown",
      "source": [
        "## Faça um programa que leia um número e apresente o seu antecessor e o seu sucessor."
      ],
      "metadata": {
        "id": "QM6ww2-2xk5k"
      }
    },
    {
      "cell_type": "code",
      "source": [],
      "metadata": {
        "id": "L7YA8HsyyBHD"
      },
      "execution_count": null,
      "outputs": []
    },
    {
      "cell_type": "markdown",
      "source": [
        "## Faça um programa que leia um número e verifique se ele é um número par ou ímpar."
      ],
      "metadata": {
        "id": "ptae0cD6x64j"
      }
    },
    {
      "cell_type": "code",
      "source": [],
      "metadata": {
        "id": "whUZo5MWyDt8"
      },
      "execution_count": null,
      "outputs": []
    },
    {
      "cell_type": "markdown",
      "source": [
        "## Faça um programa que leia um ano e mostre se ele é bissexto ou não."
      ],
      "metadata": {
        "id": "-frxj288yDUk"
      }
    },
    {
      "cell_type": "code",
      "source": [],
      "metadata": {
        "id": "v--he8m0yThz"
      },
      "execution_count": null,
      "outputs": []
    },
    {
      "cell_type": "markdown",
      "source": [
        "## Faça um programa que leia um número e mostre na tela o dobro deste número, este número elevado ao cubo e a raiz quadrada do número digitado\n"
      ],
      "metadata": {
        "id": "-tgCL412yUc0"
      }
    },
    {
      "cell_type": "code",
      "source": [],
      "metadata": {
        "id": "E8jvd4GNyYrD"
      },
      "execution_count": null,
      "outputs": []
    },
    {
      "cell_type": "markdown",
      "source": [
        "## Escreva um algoritmo que leia 2 valores inteiros, a e b, e escreve-os juntamente com a mensagem ‘são múltiplos’ou ‘não são múltiplos."
      ],
      "metadata": {
        "id": "c4upS7wvyrrj"
      }
    },
    {
      "cell_type": "code",
      "source": [],
      "metadata": {
        "id": "ffVAYhVNywyD"
      },
      "execution_count": null,
      "outputs": []
    },
    {
      "cell_type": "markdown",
      "source": [
        "## Faça um algoritmo que leia 3 valores x, y, z, e verifique se podem ser os comprimentos dos lados de um triângulo. Em caso afirmativo, verifique se é ‘triângulo equilátero’, ‘triângulo isósceles’ ou ‘triângulo escaleno’. \n",
        "*  Em caso negativo, escreva uma mensagem: ‘os valores lidos não formam um triângulo’. \n",
        "*  Considere que:\n",
        "1. o comprimento de cada lado de um triângulo é menor que a soma dos comprimentos dos outros lados\n",
        "2. um triângulo equilátero tem três lados iguais\n",
        "3. um triângulo isósceles tem dois lados iguais e um diferente\n",
        "4. um triângulo escaleno tem três lados diferentes."
      ],
      "metadata": {
        "id": "gdltEgpjyyEr"
      }
    },
    {
      "cell_type": "code",
      "source": [],
      "metadata": {
        "id": "hnyWRslEzRkr"
      },
      "execution_count": null,
      "outputs": []
    }
  ]
}