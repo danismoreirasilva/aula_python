{
  "nbformat": 4,
  "nbformat_minor": 0,
  "metadata": {
    "colab": {
      "provenance": [],
      "authorship_tag": "ABX9TyMFPNdJ7CjjV723nCTeoqSZ",
      "include_colab_link": true
    },
    "kernelspec": {
      "name": "python3",
      "display_name": "Python 3"
    },
    "language_info": {
      "name": "python"
    }
  },
  "cells": [
    {
      "cell_type": "markdown",
      "metadata": {
        "id": "view-in-github",
        "colab_type": "text"
      },
      "source": [
        "<a href=\"https://colab.research.google.com/github/danismoreirasilva/teste_repositorio/blob/main/aula0604.ipynb\" target=\"_parent\"><img src=\"https://colab.research.google.com/assets/colab-badge.svg\" alt=\"Open In Colab\"/></a>"
      ]
    },
    {
      "cell_type": "markdown",
      "source": [
        "# Conhecendo Python"
      ],
      "metadata": {
        "id": "vSHuSLCqmKSF"
      }
    },
    {
      "cell_type": "markdown",
      "source": [
        "## Tipos de dados\n"
      ],
      "metadata": {
        "id": "ZKLyo9kumKNF"
      }
    },
    {
      "cell_type": "code",
      "execution_count": null,
      "metadata": {
        "id": "MHkjM5XBl_32"
      },
      "outputs": [],
      "source": [
        "num1 = "
      ]
    }
  ]
}