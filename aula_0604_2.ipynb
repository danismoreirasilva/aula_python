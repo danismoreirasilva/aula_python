{
  "nbformat": 4,
  "nbformat_minor": 0,
  "metadata": {
    "colab": {
      "provenance": [],
      "authorship_tag": "ABX9TyNwXPK9+V1AXH5N9w6VeVqC",
      "include_colab_link": true
    },
    "kernelspec": {
      "name": "python3",
      "display_name": "Python 3"
    },
    "language_info": {
      "name": "python"
    }
  },
  "cells": [
    {
      "cell_type": "markdown",
      "metadata": {
        "id": "view-in-github",
        "colab_type": "text"
      },
      "source": [
        "<a href=\"https://colab.research.google.com/github/danismoreirasilva/aula_python/blob/main/aula_0604_2.ipynb\" target=\"_parent\"><img src=\"https://colab.research.google.com/assets/colab-badge.svg\" alt=\"Open In Colab\"/></a>"
      ]
    },
    {
      "cell_type": "markdown",
      "source": [
        "# Nível 1"
      ],
      "metadata": {
        "id": "FJwttrJEOCPc"
      }
    },
    {
      "cell_type": "code",
      "execution_count": null,
      "metadata": {
        "id": "sJ4LAM35Nz4Z"
      },
      "outputs": [],
      "source": []
    },
    {
      "cell_type": "code",
      "source": [],
      "metadata": {
        "id": "bi907faiOaSB"
      },
      "execution_count": null,
      "outputs": []
    },
    {
      "cell_type": "markdown",
      "source": [
        "# Nível 2"
      ],
      "metadata": {
        "id": "A9_8x66COnbF"
      }
    },
    {
      "cell_type": "markdown",
      "source": [
        "## Sub nível 1"
      ],
      "metadata": {
        "id": "zYW7yCvzOrH0"
      }
    },
    {
      "cell_type": "code",
      "source": [],
      "metadata": {
        "id": "BoAY-bY_Oqz0"
      },
      "execution_count": null,
      "outputs": []
    },
    {
      "cell_type": "markdown",
      "source": [
        "## Sub nível 2"
      ],
      "metadata": {
        "id": "IgUc1aMGOvxN"
      }
    },
    {
      "cell_type": "code",
      "source": [],
      "metadata": {
        "id": "_n4-NzQmOyad"
      },
      "execution_count": null,
      "outputs": []
    }
  ]
}